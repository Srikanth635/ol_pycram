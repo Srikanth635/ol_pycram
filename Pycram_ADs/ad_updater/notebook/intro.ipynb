{
 "cells": [
  {
   "cell_type": "code",
   "id": "initial_id",
   "metadata": {
    "collapsed": true,
    "ExecuteTime": {
     "end_time": "2025-06-13T12:11:13.907699Z",
     "start_time": "2025-06-13T12:11:13.157902Z"
    }
   },
   "source": "from Pycram_ADs.ad_updater.src.sv_graph import *",
   "outputs": [],
   "execution_count": 2
  },
  {
   "metadata": {
    "ExecuteTime": {
     "end_time": "2025-06-13T12:11:14.977929Z",
     "start_time": "2025-06-13T12:11:14.841695Z"
    }
   },
   "cell_type": "code",
   "source": [
    "from IPython.display import display, Image\n",
    "display(Image(sv_grapher.get_graph().draw_mermaid_png()))"
   ],
   "id": "4bb9f84f0f8e90e5",
   "outputs": [
    {
     "data": {
      "image/png": "[encoded data removed]",
      "text/plain": [
       "<IPython.core.display.Image object>"
      ]
     },
     "metadata": {},
     "output_type": "display_data"
    }
   ],
   "execution_count": 3
  },
  {
   "metadata": {
    "ExecuteTime": {
     "end_time": "2025-06-13T12:11:16.851812Z",
     "start_time": "2025-06-13T12:11:16.843989Z"
    }
   },
   "cell_type": "code",
   "source": [
    "test_obj = Object(name=\"cup\",concept=\"cup\", color=\"blue\")\n",
    "test_robot = Object(name=\"robot\", concept=\"robot\")\n",
    "test_links = [Link(name=\"gripper_link\"), Link(name=\"wrist_link\")]\n",
    "test_pose = PoseStamped(pose=Pose(\n",
    "    position=Vector3(x=1.0, y=2.0, z=3.0),\n",
    "    orientation=Quaternion(x=0.0, y=0.0, z=0.0, w=1.0)))\n",
    "\n",
    "action_designator = (\"PickUpAction(object_designator=Object(name='Cup',concept='Cup', color='blue'), arm=Arms.LEFT, \"\n",
    "                         \"grasp_description=GraspDescription(approach_direction=Grasp.TOP,vertical_alignment=Grasp.TOP, rotate_gripper=True))\")\n",
    "grasping_error = (\"ObjectNotGraspedErrorModel(obj=Object(name='cup',concept='Cup', color='blue'), \"\n",
    "                  \"robot=Object(name='robot', concept='robot'), arm=Arms.LEFT, grasp=Grasp.TOP)\")\n",
    "human_comment = \"pick up the yellow cup not the blue cup\"\n",
    "\n",
    "place_designator = \"\"\"PlaceAction(object_designator=Object(name='Cup',concept='Cup', color='blue'), target_location= PoseStamped(pose=Pose(position=Vector3(x=1.0, y=2.0, z=3.0),\n",
    "orientation=Quaternion(x=0.0, y=0.0, z=0.0, w=1.0))), arm=Arms.LEFT)\"\"\"\n",
    "placing_error = \"\"\"ObjectNotPlacedAtTargetLocation(object_designator=Object(name='Cup',concept='Cup', color='blue'), target_location= PoseStamped(pose=Pose(\n",
    "    position=Vector3(x=1.0, y=2.0, z=3.0),\n",
    "    orientation=Quaternion(x=0.0, y=0.0, z=0.0, w=1.0))), robot = Object(name=\"robot\", concept=\"robot\"), arm=Arms.LEFT)\"\"\"\n",
    "human_comment2 = \"use the other arm\"\n",
    "config = {\"configurable\" : {\"thread_id\" : 1}}"
   ],
   "id": "b801b0a2da9f943c",
   "outputs": [],
   "execution_count": 4
  },
  {
   "metadata": {
    "ExecuteTime": {
     "end_time": "2025-06-13T12:18:05.667414Z",
     "start_time": "2025-06-13T12:17:59.063025Z"
    }
   },
   "cell_type": "code",
   "source": [
    "for chunk in sv_grapher.stream({\"instruction\" : \"pick the cup from the table\"}, config = config,stream_mode=\"updates\"):\n",
    "    print(chunk)\n",
    "    print('-'*10)"
   ],
   "id": "f63ca590fae5e155",
   "outputs": [
    {
     "name": "stdout",
     "output_type": "stream",
     "text": [
      "Next Worker: pycram_node\n",
      "{'supervisor': None}\n",
      "----------\n",
      "INSIDE MODEL SELECTOR TOOL\n",
      "The instruction is : pick the cup from the table\n",
      "response of tool 1 :  <class 'Pycram_ADs.ad_updater.src.pycram_agent.ActionNames'> model_names=['PickUpAction']\n",
      "INSIDE MODEL POPULATOR TOOL\n",
      "The instruction is : pick the cup from the table\n",
      "Model Names ['PickUpAction']\n",
      "Successfully created instance of: PickUpAction\n",
      "Context Schema \n",
      "PickUpAction : {'$defs': {'Arms': {'description': 'Enum for Arms.', 'enum': [0, 1, 2], 'title': 'Arms', 'type': 'integer'}, 'Grasp': {'enum': ['front', 'back', 'left', 'right', 'top', 'bottom'], 'title': 'Grasp', 'type': 'string'}, 'GraspDescription': {'description': 'Represents a grasp description with a side grasp, top face, and orientation alignment.', 'properties': {'approach_direction': {'$ref': '#/$defs/Grasp', 'description': 'The primary approach direction. Must be one of {Grasp.FRONT, Grasp.BACK, Grasp.LEFT, Grasp.RIGHT}.'}, 'vertical_alignment': {'anyOf': [{'$ref': '#/$defs/Grasp'}, {'type': 'null'}], 'description': 'The vertical alignment when grasping the pose, or None if not applicable. Must be one of {Grasp.TOP, Grasp.BOTTOM, None}.'}, 'rotate_gripper': {'default': False, 'description': 'Indicates if the gripper should be rotated by 90°. Must be a boolean.', 'title': 'Rotate Gripper', 'type': 'boolean'}}, 'required': ['approach_direction', 'vertical_alignment'], 'title': 'GraspDescription', 'type': 'object'}, 'Header': {'properties': {'frame_id': {'default': 'map', 'title': 'Frame Id', 'type': 'string'}, 'stamp': {'anyOf': [{'type': 'string'}, {'type': 'null'}], 'default': None, 'title': 'Stamp'}, 'sequence': {'default': 0, 'title': 'Sequence', 'type': 'integer'}}, 'title': 'Header', 'type': 'object'}, 'Object': {'properties': {'name': {'description': 'The name of the object.', 'title': 'Name', 'type': 'string'}, 'concept': {'description': 'Representing Type[PhysicalObject]/Ontological Concept class of the object as string', 'title': 'Concept', 'type': 'string'}, 'path': {'anyOf': [{'type': 'string'}, {'type': 'null'}], 'default': None, 'description': 'The path to the object.', 'title': 'Path'}, 'pose': {'anyOf': [{'$ref': '#/$defs/PoseStamped'}, {'type': 'null'}], 'default': None, 'description': 'The pose of the object.'}, 'world': {'anyOf': [{'type': 'string'}, {'type': 'null'}], 'default': None, 'description': 'The world of the object. # Could be replaced with reference or ID', 'title': 'World'}, 'color': {'anyOf': [{'type': 'string'}, {'type': 'null'}], 'default': None, 'description': 'The color of the object.', 'title': 'Color'}, 'ignore_cached_files': {'anyOf': [{'type': 'boolean'}, {'type': 'null'}], 'default': False, 'title': 'Ignore Cached Files'}, 'scale_mesh': {'anyOf': [{'type': 'number'}, {'type': 'null'}], 'default': 1.0, 'title': 'Scale Mesh'}, 'mesh_transform': {'anyOf': [{'additionalProperties': {'anyOf': [{'items': {'type': 'number'}, 'type': 'array'}, {'type': 'string'}]}, 'type': 'object'}, {'type': 'null'}], 'default': None, 'title': 'Mesh Transform'}}, 'required': ['name', 'concept'], 'title': 'Object', 'type': 'object'}, 'Pose': {'properties': {'position': {'$ref': '#/$defs/Vector3'}, 'orientation': {'$ref': '#/$defs/Quaternion'}}, 'title': 'Pose', 'type': 'object'}, 'PoseStamped': {'properties': {'pose': {'$ref': '#/$defs/Pose'}, 'header': {'$ref': '#/$defs/Header'}}, 'title': 'PoseStamped', 'type': 'object'}, 'Quaternion': {'properties': {'x': {'default': 0, 'title': 'X', 'type': 'number'}, 'y': {'default': 0, 'title': 'Y', 'type': 'number'}, 'z': {'default': 0, 'title': 'Z', 'type': 'number'}, 'w': {'default': 1, 'title': 'W', 'type': 'number'}}, 'title': 'Quaternion', 'type': 'object'}, 'Vector3': {'properties': {'x': {'default': 0, 'title': 'X', 'type': 'number'}, 'y': {'default': 0, 'title': 'Y', 'type': 'number'}, 'z': {'default': 0, 'title': 'Z', 'type': 'number'}}, 'title': 'Vector3', 'type': 'object'}}, 'description': 'Let the robot pick up an object.', 'properties': {'action_type': {'default': 'PickUpAction', 'title': 'Action Type', 'type': 'string'}, 'object_designator': {'$ref': '#/$defs/Object', 'description': 'Object designator_description describing the object that should be picked up'}, 'arm': {'$ref': '#/$defs/Arms', 'description': 'The arm that should be used for pick up'}, 'grasp_description': {'$ref': '#/$defs/GraspDescription', 'description': 'The GraspDescription that should be used for picking up the object'}}, 'required': ['object_designator', 'arm', 'grasp_description'], 'title': 'PickUpAction', 'type': 'object'}\n",
      "response : models=[PickUpAction(object_designator=Object(name='cup', concept='cup'), arm=Arms.LEFT, grasp_description=GraspDescription(approach_direction=Grasp.FRONT, rotate_gripper=False))]\n",
      "{'pycram_node': {'updated_action_designator': \"models=[PickUpAction(object_designator=Object(name='cup', concept='cup'), arm=Arms.LEFT, grasp_description=GraspDescription(approach_direction=Grasp.FRONT, rotate_gripper=False))]\"}}\n",
      "----------\n"
     ]
    }
   ],
   "execution_count": 5
  },
  {
   "metadata": {
    "ExecuteTime": {
     "end_time": "2025-06-13T12:19:18.769642Z",
     "start_time": "2025-06-13T12:19:18.764475Z"
    }
   },
   "cell_type": "code",
   "source": "sv_grapher.get_state(config=config).values['updated_action_designator']",
   "id": "23730edfc2a3f803",
   "outputs": [
    {
     "data": {
      "text/plain": [
       "\"models=[PickUpAction(object_designator=Object(name='cup', concept='cup'), arm=Arms.LEFT, grasp_description=GraspDescription(approach_direction=Grasp.FRONT, rotate_gripper=False))]\""
      ]
     },
     "execution_count": 9,
     "metadata": {},
     "output_type": "execute_result"
    }
   ],
   "execution_count": 9
  },
  {
   "metadata": {
    "ExecuteTime": {
     "end_time": "2025-06-13T12:20:42.810585Z",
     "start_time": "2025-06-13T12:20:20.487751Z"
    }
   },
   "cell_type": "code",
   "source": [
    "for chunk in sv_grapher.stream({\"action_designator\": action_designator, \"reason_for_failure\": grasping_error,\n",
    "                                \"human_comment\" : human_comment}, config = config,stream_mode=\"updates\"):\n",
    "    print(chunk)\n",
    "    print('-'*10)"
   ],
   "id": "a9c1df844a5fc8a7",
   "outputs": [
    {
     "name": "stdout",
     "output_type": "stream",
     "text": [
      "Next Worker: designator_corrector_node\n",
      "{'supervisor': None}\n",
      "----------\n",
      "INSIDE ANALYZER NODE\n",
      "Pick up the blue cup\n",
      "INSIDE CONTEXT NODE\n",
      "INSIDE UPDATER NODE\n",
      "Action Designator: PickUpAction(object_designator=Object(name='Cup',concept='Cup', color='blue'), arm=Arms.LEFT, grasp_description=GraspDescription(approach_direction=Grasp.TOP,vertical_alignment=Grasp.TOP, rotate_gripper=True))\n",
      "Reason for Failure: ObjectNotGraspedErrorModel(obj=Object(name='cup',concept='Cup', color='blue'), robot=Object(name='robot', concept='robot'), arm=Arms.LEFT, grasp=Grasp.TOP)\n",
      "Human Comment: pick up the yellow cup not the blue cup\n",
      "Model Response: PickUpAction(object_designator=Object(name='Cup', concept='Cup', color='yellow'), arm=Arms.LEFT, grasp_description=GraspDescription(approach_direction=Grasp.TOP, vertical_alignment=Grasp.TOP, rotate_gripper=True))\n",
      "{'designator_corrector_node': {'parameters_to_update': '[\"color\"]', 'failure_reasons_solutions': '{\"failure_reasons\":[\"The action designator specified a blue cup, but the user intended to pick up a yellow cup, leading to a mismatch in the object\\'s color parameter.\",\"The object\\'s color parameter in the designator does not align with the user\\'s intent, causing the robot to attempt grasping the wrong object.\"],\"solution\":[\"Update the color parameter in the object designator from \\'blue\\' to \\'yellow\\' to match the user\\'s intended object.\",\"Verify the object\\'s color parameter in the designator against the user\\'s specified intent before executing the action.\"]}', 'update_parameters_reasons': '{\"updated_parameter_value\":[{\"name\":\"color\",\"value\":\"yellow\"}],\"reason_parameter_value\":[\"The user explicitly requested a yellow cup, so the color should be updated to yellow to align with their intention.\"]}', 'updated_parameters': \"['color = yellow']\", 'updated_action_designator': PickUpAction(object_designator=Object(name='Cup', concept='Cup', color='yellow'), arm=Arms.LEFT, grasp_description=GraspDescription(approach_direction=Grasp.TOP, vertical_alignment=Grasp.TOP, rotate_gripper=True)), 'human_instruction': {'ad_instruction': 'Pick up the blue cup'}}}\n",
      "----------\n"
     ]
    }
   ],
   "execution_count": 10
  },
  {
   "metadata": {
    "ExecuteTime": {
     "end_time": "2025-06-13T12:21:40.414313Z",
     "start_time": "2025-06-13T12:21:40.409538Z"
    }
   },
   "cell_type": "code",
   "source": "sv_grapher.get_state(config=config).values['human_instruction']['ad_instruction']",
   "id": "a602c7e84d97e238",
   "outputs": [
    {
     "data": {
      "text/plain": [
       "'Pick up the blue cup'"
      ]
     },
     "execution_count": 15,
     "metadata": {},
     "output_type": "execute_result"
    }
   ],
   "execution_count": 15
  },
  {
   "metadata": {},
   "cell_type": "code",
   "source": [
    "# for s in sole.stream({\"action_designator\": HumanMessage(content=action_designator), \"reason_for_failure\": HumanMessage(content=grasping_error),\n",
    "#              \"human_comment\": HumanMessage(content=human_comment)}, config = config, stream_mode=\"updates\"):\n",
    "#     print(s)\n",
    "#     print(\"--------------\")"
   ],
   "id": "bb700ad0238fd95e",
   "outputs": [],
   "execution_count": null
  },
  {
   "metadata": {},
   "cell_type": "code",
   "source": [
    "sole.invoke({\"action_designator\": place_designator, \"reason_for_failure\": placing_error,\n",
    "             \"human_comment\" : human_comment2}, config = config, stream_mode=\"updates\")"
   ],
   "id": "7abebfc653cfc270",
   "outputs": [],
   "execution_count": null
  },
  {
   "metadata": {},
   "cell_type": "markdown",
   "source": "### State Info",
   "id": "44d95a58662588a5"
  },
  {
   "metadata": {},
   "cell_type": "code",
   "source": "eval(sole.get_state(config).values[\"failure_reasons_solutions\"])",
   "id": "c37825af8a83567",
   "outputs": [],
   "execution_count": null
  },
  {
   "metadata": {},
   "cell_type": "code",
   "source": "sole.get_state(config).values[\"parameters_to_update\"]",
   "id": "ae77a4cd833f627f",
   "outputs": [],
   "execution_count": null
  },
  {
   "metadata": {},
   "cell_type": "code",
   "source": "",
   "id": "3e4499ece464fa40",
   "outputs": [],
   "execution_count": null
  },
  {
   "metadata": {},
   "cell_type": "code",
   "source": "eval(sole.get_state(config).values[\"update_parameters_reasons\"])",
   "id": "c602758d80745854",
   "outputs": [],
   "execution_count": null
  },
  {
   "metadata": {},
   "cell_type": "code",
   "source": "sole.get_state(config).values[\"updated_parameters\"]",
   "id": "e6ca87b53c466ff7",
   "outputs": [],
   "execution_count": null
  },
  {
   "metadata": {},
   "cell_type": "code",
   "source": "",
   "id": "b6902e456cf091b9",
   "outputs": [],
   "execution_count": null
  },
  {
   "metadata": {},
   "cell_type": "code",
   "source": "sole.get_state(config).values[\"action_designator\"]",
   "id": "30632abccc16cd63",
   "outputs": [],
   "execution_count": null
  },
  {
   "metadata": {},
   "cell_type": "code",
   "source": "sole.get_state(config).values[\"updated_action_designator\"]",
   "id": "2c118b94a49e6f55",
   "outputs": [],
   "execution_count": null
  },
  {
   "metadata": {},
   "cell_type": "code",
   "source": "type(sole.get_state(config).values[\"updated_action_designator\"])",
   "id": "5c9865fa7850ae93",
   "outputs": [],
   "execution_count": null
  },
  {
   "metadata": {},
   "cell_type": "code",
   "source": "up_ad = sole.get_state(config).values[\"updated_action_designator\"]",
   "id": "a30f91b1db78dc9a",
   "outputs": [],
   "execution_count": null
  },
  {
   "metadata": {},
   "cell_type": "code",
   "source": "up_ad.model_dump_json(exclude_none=True)",
   "id": "8f85310342916656",
   "outputs": [],
   "execution_count": null
  },
  {
   "metadata": {},
   "cell_type": "code",
   "source": "str(up_ad)",
   "id": "59e5cbb7c36a27fa",
   "outputs": [],
   "execution_count": null
  },
  {
   "metadata": {},
   "cell_type": "code",
   "source": "PlaceAction.model_validate_json(up_ad.model_dump_json(exclude_none=True))",
   "id": "1ccce834545f0e52",
   "outputs": [],
   "execution_count": null
  },
  {
   "metadata": {},
   "cell_type": "markdown",
   "source": "### delete",
   "id": "117997040fa2cbc1"
  },
  {
   "metadata": {},
   "cell_type": "code",
   "source": [
    "parameters_to_update = \"object_designator.name should be changed from 'cup' to 'bottle', and object_designator.color should be changed from 'blue' to 'yellow'.\"\n",
    "update_reason = \"\"\"\n",
    "Okay, let's tackle this problem. The user wanted to pick up the yellow bottle, but the action failed because it tried to pick up the blue cup instead. So, the main issue is the object color mismatch.\n",
    "\n",
    "Looking at the action designator, the object_designator has the cup with color 'blue'. The user specified a yellow bottle. So, the color parameter in the object_designator is incorrect. It should be 'yellow' instead of 'blue'. Also, the object name is 'cup', but the user mentioned a 'bottle', so maybe the name should be 'bottle' as well. However, the problem might be more about the color since the error message mentions the object not being grasped, which could be due to the color not matching the target.\n",
    "\n",
    "Wait, the error is ObjectNotGraspedErrorModel, which might indicate that the robot couldn't grasp the object, possibly because it wasn't the right one. But the user's comment is about picking up the yellow bottle, not the blue cup. So the action designator's object_designator has the wrong color and possibly the wrong object name.\n",
    "\n",
    "So, the parameters to change are the color from 'blue' to 'yellow' and the object name from 'cup' to 'bottle'. However, the original action_designator's object_designator has name='cup', so changing that to 'bottle' would align with the user's intention. Also, the color is 'blue' which needs to be 'yellow'.\n",
    "\n",
    "Therefore, the parameters to modify are object_designator's name and color. The arm is left, which might not be an issue unless the robot's left arm can't reach, but the error is about the object not being grasped, so focusing on the object parameters.\n",
    "\n",
    "So the answer should list changing the object_designator's name from 'cup' to 'bottle' and color from 'blue' to 'yellow'.\n",
    "\"\"\""
   ],
   "id": "6aa757fc437370bf",
   "outputs": [],
   "execution_count": null
  },
  {
   "metadata": {},
   "cell_type": "code",
   "source": [
    "sole.invoke({\"action_designator\": action_designator, \"reason_for_failure\": grasping_error,\n",
    "             \"human_comment\": human_comment}, config = config)"
   ],
   "id": "26da215536a68a16",
   "outputs": [],
   "execution_count": null
  },
  {
   "metadata": {},
   "cell_type": "code",
   "source": "sole.get_state(config).values[\"action_designator\"]",
   "id": "2b323083f1550805",
   "outputs": [],
   "execution_count": null
  },
  {
   "metadata": {},
   "cell_type": "code",
   "source": "sole.get_state(config).values[\"updated_action_designator\"]",
   "id": "29037a0e406691e2",
   "outputs": [],
   "execution_count": null
  },
  {
   "metadata": {},
   "cell_type": "code",
   "source": "",
   "id": "83eb648e9ed5e4e4",
   "outputs": [],
   "execution_count": null
  }
 ],
 "metadata": {
  "kernelspec": {
   "display_name": "Python 3",
   "language": "python",
   "name": "python3"
  },
  "language_info": {
   "codemirror_mode": {
    "name": "ipython",
    "version": 2
   },
   "file_extension": ".py",
   "mimetype": "text/x-python",
   "name": "python",
   "nbconvert_exporter": "python",
   "pygments_lexer": "ipython2",
   "version": "2.7.6"
  }
 },
 "nbformat": 4,
 "nbformat_minor": 5
}
